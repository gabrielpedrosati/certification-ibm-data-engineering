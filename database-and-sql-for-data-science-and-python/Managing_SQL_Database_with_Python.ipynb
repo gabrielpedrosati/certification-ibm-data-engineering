{
 "cells": [
  {
   "cell_type": "markdown",
   "id": "95ba59e2",
   "metadata": {},
   "source": [
    "# Managing SQL Database with Python"
   ]
  },
  {
   "cell_type": "markdown",
   "id": "ac57966a",
   "metadata": {},
   "source": [
    "## Install library"
   ]
  },
  {
   "cell_type": "code",
   "execution_count": 1,
   "id": "d9a23a1f",
   "metadata": {},
   "outputs": [
    {
     "name": "stdout",
     "output_type": "stream",
     "text": [
      "Defaulting to user installation because normal site-packages is not writeable\n",
      "Requirement already satisfied: mysql-connector-python in c:\\users\\pedrosa\\appdata\\roaming\\python\\python39\\site-packages (8.0.32)\n",
      "Requirement already satisfied: protobuf<=3.20.3,>=3.11.0 in c:\\users\\pedrosa\\appdata\\roaming\\python\\python39\\site-packages (from mysql-connector-python) (3.20.3)\n"
     ]
    }
   ],
   "source": [
    "!pip install mysql-connector-python"
   ]
  },
  {
   "cell_type": "markdown",
   "id": "f4a96499",
   "metadata": {},
   "source": [
    "## Import Libraries"
   ]
  },
  {
   "cell_type": "code",
   "execution_count": 3,
   "id": "253803d5",
   "metadata": {},
   "outputs": [],
   "source": [
    "import mysql.connector as mysql"
   ]
  },
  {
   "cell_type": "markdown",
   "id": "b7ea78ab",
   "metadata": {},
   "source": [
    "## Connection Credentials"
   ]
  },
  {
   "cell_type": "code",
   "execution_count": 25,
   "id": "1579ad58",
   "metadata": {},
   "outputs": [],
   "source": [
    "conn_credentials = {\n",
    "    \"host\":\"******\",\n",
    "    \"db\":\"ibm_database\",\n",
    "    \"user\":\"******\",\n",
    "    \"password\":\"******\"\n",
    "}"
   ]
  },
  {
   "cell_type": "markdown",
   "id": "00078ecb",
   "metadata": {},
   "source": [
    "## Task 1: Database connection"
   ]
  },
  {
   "cell_type": "code",
   "execution_count": 51,
   "id": "3fc0047e",
   "metadata": {},
   "outputs": [
    {
     "name": "stdout",
     "output_type": "stream",
     "text": [
      "Connected to database\n"
     ]
    }
   ],
   "source": [
    "try:\n",
    "    # connection function\n",
    "    conn = mysql.connect(host=conn_credentials['host'],db=conn_credentials['db'],user=conn_credentials['user'], \\\n",
    "                         password=conn_credentials['password'])\n",
    "    print('Connected to database')\n",
    "        \n",
    "# handles exceptions\n",
    "except Exception as e:\n",
    "    print('Connection failed! Exception: ', e)\n",
    "    "
   ]
  },
  {
   "cell_type": "markdown",
   "id": "0221f6d9",
   "metadata": {},
   "source": [
    "## Cursor query"
   ]
  },
  {
   "cell_type": "code",
   "execution_count": 27,
   "id": "f10116df",
   "metadata": {},
   "outputs": [],
   "source": [
    "cursor = conn.cursor()"
   ]
  },
  {
   "cell_type": "markdown",
   "id": "f26e34ac",
   "metadata": {},
   "source": [
    "## Task 2: DROP and CREATE TABLE"
   ]
  },
  {
   "cell_type": "code",
   "execution_count": 28,
   "id": "9f3aeb2e",
   "metadata": {},
   "outputs": [],
   "source": [
    "cursor.execute(\"DROP TABLE IF EXISTS instructor\")"
   ]
  },
  {
   "cell_type": "code",
   "execution_count": 30,
   "id": "268f89d0",
   "metadata": {},
   "outputs": [],
   "source": [
    "query_create_table = \"\"\"\n",
    "    CREATE TABLE instructor(\n",
    "        id INTEGER,\n",
    "        fname VARCHAR(20),\n",
    "        lname VARCHAR(20),\n",
    "        city VARCHAR(20),\n",
    "        cc_code CHAR(2),\n",
    "        PRIMARY KEY (id)\n",
    "    );\n",
    "\"\"\"\n",
    "\n",
    "cursor.execute(query_create_table)"
   ]
  },
  {
   "cell_type": "markdown",
   "id": "aff797df",
   "metadata": {},
   "source": [
    "## Task 3: INSERT data"
   ]
  },
  {
   "cell_type": "code",
   "execution_count": 41,
   "id": "dadb8d10",
   "metadata": {},
   "outputs": [],
   "source": [
    "query_insert_data = \"\"\"\n",
    "    INSERT INTO instructor (id, fname, lname, city, cc_code)\n",
    "    VALUES (1, 'Rav', 'Ahuja', 'TORONTO', 'CA'),\n",
    "    (2, 'Raul', 'Chong', 'Markham', 'CA'),\n",
    "    (3, 'Hima', 'Vasudevan', 'Chicago', 'US');\n",
    "\"\"\"\n",
    "\n",
    "cursor.execute(query_insert_data)\n",
    "# commit\n",
    "conn.commit()"
   ]
  },
  {
   "cell_type": "markdown",
   "id": "b57ecfbb",
   "metadata": {},
   "source": [
    "## Task 4: Query Data"
   ]
  },
  {
   "cell_type": "code",
   "execution_count": 43,
   "id": "7b1fae97",
   "metadata": {},
   "outputs": [],
   "source": [
    "query_select = \"\"\"\n",
    "    SELECT * FROM instructor;\n",
    "\"\"\"\n",
    "\n",
    "cursor.execute(query_select)"
   ]
  },
  {
   "cell_type": "code",
   "execution_count": 44,
   "id": "02181406",
   "metadata": {},
   "outputs": [
    {
     "data": {
      "text/plain": [
       "[(1, 'Rav', 'Ahuja', 'TORONTO', 'CA'),\n",
       " (2, 'Raul', 'Chong', 'Markham', 'CA'),\n",
       " (3, 'Hima', 'Vasudevan', 'Chicago', 'US')]"
      ]
     },
     "execution_count": 44,
     "metadata": {},
     "output_type": "execute_result"
    }
   ],
   "source": [
    "cursor.fetchall()"
   ]
  },
  {
   "cell_type": "markdown",
   "id": "3efd4b80",
   "metadata": {},
   "source": [
    "## Task 5: Retrieve data into Pandas"
   ]
  },
  {
   "cell_type": "code",
   "execution_count": 48,
   "id": "540822be",
   "metadata": {},
   "outputs": [
    {
     "name": "stderr",
     "output_type": "stream",
     "text": [
      "C:\\ProgramData\\Anaconda3\\lib\\site-packages\\pandas\\io\\sql.py:762: UserWarning: pandas only support SQLAlchemy connectable(engine/connection) ordatabase string URI or sqlite3 DBAPI2 connectionother DBAPI2 objects are not tested, please consider using SQLAlchemy\n",
      "  warnings.warn(\n"
     ]
    }
   ],
   "source": [
    "# Import libraries\n",
    "import pandas as pd\n",
    "\n",
    "query_select = \"\"\"\n",
    "SELECT * FROM instructor;\n",
    "\"\"\"\n",
    "\n",
    "pdf = pd.read_sql(query_select, conn)"
   ]
  },
  {
   "cell_type": "code",
   "execution_count": 49,
   "id": "ecccafc2",
   "metadata": {
    "scrolled": true
   },
   "outputs": [
    {
     "data": {
      "text/html": [
       "<div>\n",
       "<style scoped>\n",
       "    .dataframe tbody tr th:only-of-type {\n",
       "        vertical-align: middle;\n",
       "    }\n",
       "\n",
       "    .dataframe tbody tr th {\n",
       "        vertical-align: top;\n",
       "    }\n",
       "\n",
       "    .dataframe thead th {\n",
       "        text-align: right;\n",
       "    }\n",
       "</style>\n",
       "<table border=\"1\" class=\"dataframe\">\n",
       "  <thead>\n",
       "    <tr style=\"text-align: right;\">\n",
       "      <th></th>\n",
       "      <th>id</th>\n",
       "      <th>fname</th>\n",
       "      <th>lname</th>\n",
       "      <th>city</th>\n",
       "      <th>cc_code</th>\n",
       "    </tr>\n",
       "  </thead>\n",
       "  <tbody>\n",
       "    <tr>\n",
       "      <th>0</th>\n",
       "      <td>1</td>\n",
       "      <td>Rav</td>\n",
       "      <td>Ahuja</td>\n",
       "      <td>TORONTO</td>\n",
       "      <td>CA</td>\n",
       "    </tr>\n",
       "    <tr>\n",
       "      <th>1</th>\n",
       "      <td>2</td>\n",
       "      <td>Raul</td>\n",
       "      <td>Chong</td>\n",
       "      <td>Markham</td>\n",
       "      <td>CA</td>\n",
       "    </tr>\n",
       "    <tr>\n",
       "      <th>2</th>\n",
       "      <td>3</td>\n",
       "      <td>Hima</td>\n",
       "      <td>Vasudevan</td>\n",
       "      <td>Chicago</td>\n",
       "      <td>US</td>\n",
       "    </tr>\n",
       "  </tbody>\n",
       "</table>\n",
       "</div>"
      ],
      "text/plain": [
       "   id fname      lname     city cc_code\n",
       "0   1   Rav      Ahuja  TORONTO      CA\n",
       "1   2  Raul      Chong  Markham      CA\n",
       "2   3  Hima  Vasudevan  Chicago      US"
      ]
     },
     "execution_count": 49,
     "metadata": {},
     "output_type": "execute_result"
    }
   ],
   "source": [
    "pdf"
   ]
  },
  {
   "cell_type": "markdown",
   "id": "bad1b0eb",
   "metadata": {},
   "source": [
    "## Task 6: Close Connection"
   ]
  },
  {
   "cell_type": "code",
   "execution_count": 50,
   "id": "4eedcb29",
   "metadata": {},
   "outputs": [],
   "source": [
    "conn.close()"
   ]
  }
 ],
 "metadata": {
  "kernelspec": {
   "display_name": "Python 3 (ipykernel)",
   "language": "python",
   "name": "python3"
  },
  "language_info": {
   "codemirror_mode": {
    "name": "ipython",
    "version": 3
   },
   "file_extension": ".py",
   "mimetype": "text/x-python",
   "name": "python",
   "nbconvert_exporter": "python",
   "pygments_lexer": "ipython3",
   "version": "3.9.13"
  }
 },
 "nbformat": 4,
 "nbformat_minor": 5
}
