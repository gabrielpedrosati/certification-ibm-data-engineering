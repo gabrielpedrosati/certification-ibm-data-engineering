{
 "cells": [
  {
   "cell_type": "code",
   "execution_count": 1,
   "id": "55e7b063",
   "metadata": {},
   "outputs": [
    {
     "name": "stdout",
     "output_type": "stream",
     "text": [
      "Defaulting to user installation because normal site-packages is not writeable\n",
      "Requirement already satisfied: mysql-connector-python in c:\\users\\pedrosa\\appdata\\roaming\\python\\python39\\site-packages (8.0.32)\n",
      "Requirement already satisfied: protobuf<=3.20.3,>=3.11.0 in c:\\users\\pedrosa\\appdata\\roaming\\python\\python39\\site-packages (from mysql-connector-python) (3.20.3)\n",
      "Defaulting to user installation because normal site-packages is not writeable\n",
      "Requirement already satisfied: pandasql in c:\\users\\pedrosa\\appdata\\roaming\\python\\python39\\site-packages (0.7.3)\n",
      "Requirement already satisfied: sqlalchemy in c:\\users\\pedrosa\\appdata\\roaming\\python\\python39\\site-packages (from pandasql) (2.0.7)\n",
      "Requirement already satisfied: numpy in c:\\programdata\\anaconda3\\lib\\site-packages (from pandasql) (1.21.5)\n",
      "Requirement already satisfied: pandas in c:\\programdata\\anaconda3\\lib\\site-packages (from pandasql) (1.4.4)\n",
      "Requirement already satisfied: python-dateutil>=2.8.1 in c:\\programdata\\anaconda3\\lib\\site-packages (from pandas->pandasql) (2.8.2)\n",
      "Requirement already satisfied: pytz>=2020.1 in c:\\programdata\\anaconda3\\lib\\site-packages (from pandas->pandasql) (2022.1)\n",
      "Requirement already satisfied: typing-extensions>=4.2.0 in c:\\users\\pedrosa\\appdata\\roaming\\python\\python39\\site-packages (from sqlalchemy->pandasql) (4.5.0)\n",
      "Requirement already satisfied: greenlet!=0.4.17 in c:\\users\\pedrosa\\appdata\\roaming\\python\\python39\\site-packages (from sqlalchemy->pandasql) (2.0.2)\n",
      "Requirement already satisfied: six>=1.5 in c:\\programdata\\anaconda3\\lib\\site-packages (from python-dateutil>=2.8.1->pandas->pandasql) (1.16.0)\n"
     ]
    }
   ],
   "source": [
    "!pip install mysql-connector-python"
   ]
  },
  {
   "cell_type": "markdown",
   "id": "cf04f47e",
   "metadata": {},
   "source": [
    "## Import Libraries"
   ]
  },
  {
   "cell_type": "code",
   "execution_count": 2,
   "id": "39017ec5",
   "metadata": {},
   "outputs": [],
   "source": [
    "import mysql.connector as mysql\n",
    "import pandas as pd"
   ]
  },
  {
   "cell_type": "markdown",
   "id": "d441f1f7",
   "metadata": {},
   "source": [
    "## DB Credentials"
   ]
  },
  {
   "cell_type": "code",
   "execution_count": 3,
   "id": "4599d287",
   "metadata": {},
   "outputs": [],
   "source": [
    "db_host = \"database-1.cxbcxwezo94b.us-east-1.rds.amazonaws.com\"\n",
    "db_name = 'ibm_database'\n",
    "db_user = 'admin'\n",
    "db_pass = 'Passw0rd123'"
   ]
  },
  {
   "cell_type": "markdown",
   "id": "e03b6df9",
   "metadata": {},
   "source": [
    "## Database Connection Function"
   ]
  },
  {
   "cell_type": "code",
   "execution_count": 18,
   "id": "c119d1d8",
   "metadata": {},
   "outputs": [],
   "source": [
    "# Conection\n",
    "def connect_database(host, username, password, database):\n",
    "    \"\"\"\n",
    "    Connect to database\n",
    "    Params:\n",
    "        - host: database host\n",
    "        - username: database user\n",
    "        - password: database password\n",
    "        - database: database name\n",
    "        \n",
    "    Returns\n",
    "        conn: connection with the db\n",
    "    \"\"\"\n",
    "    try:\n",
    "        # connection function\n",
    "        conn = mysql.connect(host=host, user=username, password=password, db=database, auth_plugin='mysql_native_password')\n",
    "        \n",
    "        print('Connected to database')\n",
    "        \n",
    "        return conn\n",
    "        \n",
    "    # handles exceptions\n",
    "    except Exception as e:\n",
    "        print('Connection failed! Exception: ', e)\n"
   ]
  },
  {
   "cell_type": "markdown",
   "id": "2f7beeab",
   "metadata": {},
   "source": [
    "## Call Function Connection DB"
   ]
  },
  {
   "cell_type": "code",
   "execution_count": 19,
   "id": "da7c1fb4",
   "metadata": {},
   "outputs": [
    {
     "name": "stdout",
     "output_type": "stream",
     "text": [
      "Connected to database\n"
     ]
    }
   ],
   "source": [
    "# call function connect_database()\n",
    "conn = connect_database(db_host, db_user, db_pass, db_name)"
   ]
  },
  {
   "cell_type": "markdown",
   "id": "c4f206ea",
   "metadata": {},
   "source": [
    "# Joins Exercises"
   ]
  },
  {
   "cell_type": "markdown",
   "id": "d29a8d71",
   "metadata": {},
   "source": [
    "### Question 1: Write and execute a SQL query to list the school names, community names and average attendance for communities with a hardship index of 98."
   ]
  },
  {
   "cell_type": "code",
   "execution_count": 9,
   "id": "6fc741d2",
   "metadata": {},
   "outputs": [
    {
     "data": {
      "text/html": [
       "<div>\n",
       "<style scoped>\n",
       "    .dataframe tbody tr th:only-of-type {\n",
       "        vertical-align: middle;\n",
       "    }\n",
       "\n",
       "    .dataframe tbody tr th {\n",
       "        vertical-align: top;\n",
       "    }\n",
       "\n",
       "    .dataframe thead th {\n",
       "        text-align: right;\n",
       "    }\n",
       "</style>\n",
       "<table border=\"1\" class=\"dataframe\">\n",
       "  <thead>\n",
       "    <tr style=\"text-align: right;\">\n",
       "      <th></th>\n",
       "      <th>NAME_OF_SCHOOL</th>\n",
       "      <th>COMMUNITY_AREA_NAME</th>\n",
       "      <th>AVERAGE_STUDENT_ATTENDANCE</th>\n",
       "    </tr>\n",
       "  </thead>\n",
       "  <tbody>\n",
       "    <tr>\n",
       "      <th>0</th>\n",
       "      <td>George Washington Carver Military Academy High...</td>\n",
       "      <td>RIVERDALE</td>\n",
       "      <td>91.60%</td>\n",
       "    </tr>\n",
       "    <tr>\n",
       "      <th>1</th>\n",
       "      <td>George Washington Carver Primary School</td>\n",
       "      <td>RIVERDALE</td>\n",
       "      <td>90.90%</td>\n",
       "    </tr>\n",
       "    <tr>\n",
       "      <th>2</th>\n",
       "      <td>Ira F Aldridge Elementary School</td>\n",
       "      <td>RIVERDALE</td>\n",
       "      <td>92.90%</td>\n",
       "    </tr>\n",
       "    <tr>\n",
       "      <th>3</th>\n",
       "      <td>William E B Dubois Elementary School</td>\n",
       "      <td>RIVERDALE</td>\n",
       "      <td>93.30%</td>\n",
       "    </tr>\n",
       "  </tbody>\n",
       "</table>\n",
       "</div>"
      ],
      "text/plain": [
       "                                      NAME_OF_SCHOOL COMMUNITY_AREA_NAME  \\\n",
       "0  George Washington Carver Military Academy High...           RIVERDALE   \n",
       "1            George Washington Carver Primary School           RIVERDALE   \n",
       "2                   Ira F Aldridge Elementary School           RIVERDALE   \n",
       "3               William E B Dubois Elementary School           RIVERDALE   \n",
       "\n",
       "  AVERAGE_STUDENT_ATTENDANCE  \n",
       "0                     91.60%  \n",
       "1                     90.90%  \n",
       "2                     92.90%  \n",
       "3                     93.30%  "
      ]
     },
     "execution_count": 9,
     "metadata": {},
     "output_type": "execute_result"
    }
   ],
   "source": [
    "%%capture --no-display\n",
    "\n",
    "pd.read_sql(\"\"\"\n",
    "    SELECT\n",
    "        S.NAME_OF_SCHOOL,\n",
    "        S.COMMUNITY_AREA_NAME,\n",
    "        S.AVERAGE_STUDENT_ATTENDANCE\n",
    "    FROM CHICAGO_PUBLIC_SCHOOLS S\n",
    "    LEFT JOIN CENSUS_DATA C\n",
    "    ON C.COMMUNITY_AREA_NUMBER = S.COMMUNITY_AREA_NUMBER\n",
    "    WHERE C.HARDSHIP_INDEX = 98;\n",
    "\"\"\", con=conn)"
   ]
  },
  {
   "cell_type": "markdown",
   "id": "9ce20161",
   "metadata": {},
   "source": [
    "### Question 2: Write and execute a SQL query to list all crimes that took place at a school. Include case number, crime type and community name."
   ]
  },
  {
   "cell_type": "code",
   "execution_count": 12,
   "id": "69aa3987",
   "metadata": {},
   "outputs": [
    {
     "data": {
      "text/html": [
       "<div>\n",
       "<style scoped>\n",
       "    .dataframe tbody tr th:only-of-type {\n",
       "        vertical-align: middle;\n",
       "    }\n",
       "\n",
       "    .dataframe tbody tr th {\n",
       "        vertical-align: top;\n",
       "    }\n",
       "\n",
       "    .dataframe thead th {\n",
       "        text-align: right;\n",
       "    }\n",
       "</style>\n",
       "<table border=\"1\" class=\"dataframe\">\n",
       "  <thead>\n",
       "    <tr style=\"text-align: right;\">\n",
       "      <th></th>\n",
       "      <th>CASE_NUMBER</th>\n",
       "      <th>PRIMARY_TYPE</th>\n",
       "      <th>COMMUNITY_AREA_NAME</th>\n",
       "    </tr>\n",
       "  </thead>\n",
       "  <tbody>\n",
       "    <tr>\n",
       "      <th>0</th>\n",
       "      <td>HT315369</td>\n",
       "      <td>ASSAULT</td>\n",
       "      <td>East Garfield Park</td>\n",
       "    </tr>\n",
       "    <tr>\n",
       "      <th>1</th>\n",
       "      <td>HL725506</td>\n",
       "      <td>BATTERY</td>\n",
       "      <td>Lincoln Square</td>\n",
       "    </tr>\n",
       "    <tr>\n",
       "      <th>2</th>\n",
       "      <td>HH639427</td>\n",
       "      <td>BATTERY</td>\n",
       "      <td>Austin</td>\n",
       "    </tr>\n",
       "    <tr>\n",
       "      <th>3</th>\n",
       "      <td>HP716225</td>\n",
       "      <td>BATTERY</td>\n",
       "      <td>Douglas</td>\n",
       "    </tr>\n",
       "    <tr>\n",
       "      <th>4</th>\n",
       "      <td>HL353697</td>\n",
       "      <td>BATTERY</td>\n",
       "      <td>South Shore</td>\n",
       "    </tr>\n",
       "    <tr>\n",
       "      <th>5</th>\n",
       "      <td>JA460432</td>\n",
       "      <td>BATTERY</td>\n",
       "      <td>Ashburn</td>\n",
       "    </tr>\n",
       "    <tr>\n",
       "      <th>6</th>\n",
       "      <td>HS200939</td>\n",
       "      <td>CRIMINAL DAMAGE</td>\n",
       "      <td>Austin</td>\n",
       "    </tr>\n",
       "    <tr>\n",
       "      <th>7</th>\n",
       "      <td>HR585012</td>\n",
       "      <td>CRIMINAL TRESPASS</td>\n",
       "      <td>Ashburn</td>\n",
       "    </tr>\n",
       "    <tr>\n",
       "      <th>8</th>\n",
       "      <td>HK577020</td>\n",
       "      <td>NARCOTICS</td>\n",
       "      <td>Rogers Park</td>\n",
       "    </tr>\n",
       "    <tr>\n",
       "      <th>9</th>\n",
       "      <td>HS305355</td>\n",
       "      <td>NARCOTICS</td>\n",
       "      <td>Brighton Park</td>\n",
       "    </tr>\n",
       "    <tr>\n",
       "      <th>10</th>\n",
       "      <td>G635735</td>\n",
       "      <td>PUBLIC PEACE VIOLATION</td>\n",
       "      <td>CHICAGO</td>\n",
       "    </tr>\n",
       "    <tr>\n",
       "      <th>11</th>\n",
       "      <td>HH292682</td>\n",
       "      <td>PUBLIC PEACE VIOLATION</td>\n",
       "      <td>CHICAGO</td>\n",
       "    </tr>\n",
       "  </tbody>\n",
       "</table>\n",
       "</div>"
      ],
      "text/plain": [
       "   CASE_NUMBER            PRIMARY_TYPE COMMUNITY_AREA_NAME\n",
       "0     HT315369                 ASSAULT  East Garfield Park\n",
       "1     HL725506                 BATTERY      Lincoln Square\n",
       "2     HH639427                 BATTERY              Austin\n",
       "3     HP716225                 BATTERY             Douglas\n",
       "4     HL353697                 BATTERY         South Shore\n",
       "5     JA460432                 BATTERY             Ashburn\n",
       "6     HS200939         CRIMINAL DAMAGE              Austin\n",
       "7     HR585012       CRIMINAL TRESPASS             Ashburn\n",
       "8     HK577020               NARCOTICS         Rogers Park\n",
       "9     HS305355               NARCOTICS       Brighton Park\n",
       "10     G635735  PUBLIC PEACE VIOLATION             CHICAGO\n",
       "11    HH292682  PUBLIC PEACE VIOLATION             CHICAGO"
      ]
     },
     "execution_count": 12,
     "metadata": {},
     "output_type": "execute_result"
    }
   ],
   "source": [
    "%%capture --no-display\n",
    "\n",
    "pd.read_sql(\"\"\"\n",
    "    SELECT\n",
    "        CR.CASE_NUMBER,\n",
    "        CR.PRIMARY_TYPE,\n",
    "        CE.COMMUNITY_AREA_NAME\n",
    "    FROM CHICAGO_CRIME_DATA CR\n",
    "    JOIN CENSUS_DATA CE\n",
    "    ON CR.COMMUNITY_AREA_NUMBER = CE.COMMUNITY_AREA_NUMBER\n",
    "    WHERE LOCATION_DESCRIPTION LIKE '%SCHOOL%'\n",
    "    ORDER BY CR.PRIMARY_TYPE;\n",
    "\"\"\", con=conn)"
   ]
  },
  {
   "cell_type": "markdown",
   "id": "ccc35028",
   "metadata": {},
   "source": [
    "# Views Exercises"
   ]
  },
  {
   "cell_type": "markdown",
   "id": "6b2d3b8f",
   "metadata": {},
   "source": [
    "### Question 1: Write and execute a SQL statement to create a view showing the columns listed in the following table, with new column names as shown in the second column.\n",
    "\n",
    "| Column name in CHICAGO_PUBLIC_SCHOOLS\t| Column name in view |\n",
    "| --- | --- |\n",
    "| NAME_OF_SCHOOL\t| School_Name |\n",
    "| Safety_Icon\t| Safety_Rating |\n",
    "| Family_Involvement_Icon |\tFamily_Rating |\n",
    "| Environment_Icon\t| Environment_Rating |\n",
    "| Instruction_Icon\t| Instruction_Rating |\n",
    "| Leaders_Icon\t| Leaders_Rating |\n",
    "| Teachers_Icon\t| Teachers_Rating |"
   ]
  },
  {
   "cell_type": "code",
   "execution_count": 13,
   "id": "8bb7609f",
   "metadata": {},
   "outputs": [
    {
     "ename": "TypeError",
     "evalue": "'NoneType' object is not iterable",
     "output_type": "error",
     "traceback": [
      "\u001b[1;31m---------------------------------------------------------------------------\u001b[0m",
      "\u001b[1;31mTypeError\u001b[0m                                 Traceback (most recent call last)",
      "\u001b[1;32m~\\AppData\\Local\\Temp\\ipykernel_5076\\165413289.py\u001b[0m in \u001b[0;36m<module>\u001b[1;34m\u001b[0m\n\u001b[1;32m----> 1\u001b[1;33m pd.read_sql(\"\"\"\n\u001b[0m\u001b[0;32m      2\u001b[0m     \u001b[0mCREATE\u001b[0m \u001b[0mOR\u001b[0m \u001b[0mREPLACE\u001b[0m \u001b[0mVIEW\u001b[0m \u001b[0mv_public_schools\u001b[0m\u001b[1;33m\u001b[0m\u001b[1;33m\u001b[0m\u001b[0m\n\u001b[0;32m      3\u001b[0m \u001b[1;33m(\u001b[0m\u001b[0mSchool_Name\u001b[0m\u001b[1;33m,\u001b[0m \u001b[0mSafety_Rating\u001b[0m\u001b[1;33m,\u001b[0m \u001b[0mFamily_Rating\u001b[0m\u001b[1;33m,\u001b[0m \u001b[0mEnvironment_Rating\u001b[0m\u001b[1;33m,\u001b[0m \u001b[0mInstruction_Rating\u001b[0m\u001b[1;33m,\u001b[0m \u001b[0mLeaders_Rating\u001b[0m\u001b[1;33m,\u001b[0m \u001b[0mTeachers_Rating\u001b[0m\u001b[1;33m)\u001b[0m\u001b[1;33m\u001b[0m\u001b[1;33m\u001b[0m\u001b[0m\n\u001b[0;32m      4\u001b[0m     \u001b[0mAS\u001b[0m \u001b[0mSELECT\u001b[0m\u001b[1;33m\u001b[0m\u001b[1;33m\u001b[0m\u001b[0m\n\u001b[0;32m      5\u001b[0m         \u001b[0mNAME_OF_SCHOOL\u001b[0m\u001b[1;33m,\u001b[0m\u001b[1;33m\u001b[0m\u001b[1;33m\u001b[0m\u001b[0m\n",
      "\u001b[1;32mC:\\ProgramData\\Anaconda3\\lib\\site-packages\\pandas\\io\\sql.py\u001b[0m in \u001b[0;36mread_sql\u001b[1;34m(sql, con, index_col, coerce_float, params, parse_dates, columns, chunksize)\u001b[0m\n\u001b[0;32m    565\u001b[0m \u001b[1;33m\u001b[0m\u001b[0m\n\u001b[0;32m    566\u001b[0m     \u001b[1;32mif\u001b[0m \u001b[0misinstance\u001b[0m\u001b[1;33m(\u001b[0m\u001b[0mpandas_sql\u001b[0m\u001b[1;33m,\u001b[0m \u001b[0mSQLiteDatabase\u001b[0m\u001b[1;33m)\u001b[0m\u001b[1;33m:\u001b[0m\u001b[1;33m\u001b[0m\u001b[1;33m\u001b[0m\u001b[0m\n\u001b[1;32m--> 567\u001b[1;33m         return pandas_sql.read_query(\n\u001b[0m\u001b[0;32m    568\u001b[0m             \u001b[0msql\u001b[0m\u001b[1;33m,\u001b[0m\u001b[1;33m\u001b[0m\u001b[1;33m\u001b[0m\u001b[0m\n\u001b[0;32m    569\u001b[0m             \u001b[0mindex_col\u001b[0m\u001b[1;33m=\u001b[0m\u001b[0mindex_col\u001b[0m\u001b[1;33m,\u001b[0m\u001b[1;33m\u001b[0m\u001b[1;33m\u001b[0m\u001b[0m\n",
      "\u001b[1;32mC:\\ProgramData\\Anaconda3\\lib\\site-packages\\pandas\\io\\sql.py\u001b[0m in \u001b[0;36mread_query\u001b[1;34m(self, sql, index_col, coerce_float, params, parse_dates, chunksize, dtype)\u001b[0m\n\u001b[0;32m   2082\u001b[0m         \u001b[0margs\u001b[0m \u001b[1;33m=\u001b[0m \u001b[0m_convert_params\u001b[0m\u001b[1;33m(\u001b[0m\u001b[0msql\u001b[0m\u001b[1;33m,\u001b[0m \u001b[0mparams\u001b[0m\u001b[1;33m)\u001b[0m\u001b[1;33m\u001b[0m\u001b[1;33m\u001b[0m\u001b[0m\n\u001b[0;32m   2083\u001b[0m         \u001b[0mcursor\u001b[0m \u001b[1;33m=\u001b[0m \u001b[0mself\u001b[0m\u001b[1;33m.\u001b[0m\u001b[0mexecute\u001b[0m\u001b[1;33m(\u001b[0m\u001b[1;33m*\u001b[0m\u001b[0margs\u001b[0m\u001b[1;33m)\u001b[0m\u001b[1;33m\u001b[0m\u001b[1;33m\u001b[0m\u001b[0m\n\u001b[1;32m-> 2084\u001b[1;33m         \u001b[0mcolumns\u001b[0m \u001b[1;33m=\u001b[0m \u001b[1;33m[\u001b[0m\u001b[0mcol_desc\u001b[0m\u001b[1;33m[\u001b[0m\u001b[1;36m0\u001b[0m\u001b[1;33m]\u001b[0m \u001b[1;32mfor\u001b[0m \u001b[0mcol_desc\u001b[0m \u001b[1;32min\u001b[0m \u001b[0mcursor\u001b[0m\u001b[1;33m.\u001b[0m\u001b[0mdescription\u001b[0m\u001b[1;33m]\u001b[0m\u001b[1;33m\u001b[0m\u001b[1;33m\u001b[0m\u001b[0m\n\u001b[0m\u001b[0;32m   2085\u001b[0m \u001b[1;33m\u001b[0m\u001b[0m\n\u001b[0;32m   2086\u001b[0m         \u001b[1;32mif\u001b[0m \u001b[0mchunksize\u001b[0m \u001b[1;32mis\u001b[0m \u001b[1;32mnot\u001b[0m \u001b[1;32mNone\u001b[0m\u001b[1;33m:\u001b[0m\u001b[1;33m\u001b[0m\u001b[1;33m\u001b[0m\u001b[0m\n",
      "\u001b[1;31mTypeError\u001b[0m: 'NoneType' object is not iterable"
     ]
    }
   ],
   "source": [
    "%%capture --no-display\n",
    "\n",
    "pd.read_sql(\"\"\"\n",
    "    CREATE OR REPLACE VIEW v_public_schools \n",
    "(School_Name, Safety_Rating, Family_Rating, Environment_Rating, Instruction_Rating, Leaders_Rating, Teachers_Rating)\n",
    "    AS SELECT\n",
    "        NAME_OF_SCHOOL,\n",
    "        Safety_Icon,\n",
    "        Family_Involvement_Icon,\n",
    "        Environment_Icon,\n",
    "        Instruction_Icon,\n",
    "        Leaders_Icon,\n",
    "        Teachers_Icon\n",
    "    FROM CHICAGO_PUBLIC_SCHOOLS;\n",
    "\"\"\", con=conn)"
   ]
  },
  {
   "cell_type": "markdown",
   "id": "f2f035e8",
   "metadata": {},
   "source": [
    "### Question 2: Write and execute a SQL statement that returns all of the columns from the view."
   ]
  },
  {
   "cell_type": "code",
   "execution_count": 27,
   "id": "f7d9d21b",
   "metadata": {},
   "outputs": [
    {
     "data": {
      "text/html": [
       "<div>\n",
       "<style scoped>\n",
       "    .dataframe tbody tr th:only-of-type {\n",
       "        vertical-align: middle;\n",
       "    }\n",
       "\n",
       "    .dataframe tbody tr th {\n",
       "        vertical-align: top;\n",
       "    }\n",
       "\n",
       "    .dataframe thead th {\n",
       "        text-align: right;\n",
       "    }\n",
       "</style>\n",
       "<table border=\"1\" class=\"dataframe\">\n",
       "  <thead>\n",
       "    <tr style=\"text-align: right;\">\n",
       "      <th></th>\n",
       "      <th>School_Name</th>\n",
       "      <th>Safety_Rating</th>\n",
       "      <th>Family_Rating</th>\n",
       "      <th>Environment_Rating</th>\n",
       "      <th>Instruction_Rating</th>\n",
       "      <th>Leaders_Rating</th>\n",
       "      <th>Teachers_Rating</th>\n",
       "    </tr>\n",
       "  </thead>\n",
       "  <tbody>\n",
       "    <tr>\n",
       "      <th>0</th>\n",
       "      <td>Abraham Lincoln Elementary School</td>\n",
       "      <td>Very Strong</td>\n",
       "      <td>Very Strong</td>\n",
       "      <td>Strong</td>\n",
       "      <td>Strong</td>\n",
       "      <td>Average</td>\n",
       "      <td>Strong</td>\n",
       "    </tr>\n",
       "    <tr>\n",
       "      <th>1</th>\n",
       "      <td>Adam Clayton Powell Paideia Community Academy ...</td>\n",
       "      <td>Average</td>\n",
       "      <td>Strong</td>\n",
       "      <td>Strong</td>\n",
       "      <td>Very Strong</td>\n",
       "      <td>Weak</td>\n",
       "      <td>Strong</td>\n",
       "    </tr>\n",
       "    <tr>\n",
       "      <th>2</th>\n",
       "      <td>Adlai E Stevenson Elementary School</td>\n",
       "      <td>Strong</td>\n",
       "      <td>NDA</td>\n",
       "      <td>Average</td>\n",
       "      <td>Weak</td>\n",
       "      <td>Weak</td>\n",
       "      <td>NDA</td>\n",
       "    </tr>\n",
       "    <tr>\n",
       "      <th>3</th>\n",
       "      <td>Agustin Lara Elementary Academy</td>\n",
       "      <td>Average</td>\n",
       "      <td>Average</td>\n",
       "      <td>Average</td>\n",
       "      <td>Weak</td>\n",
       "      <td>Weak</td>\n",
       "      <td>Average</td>\n",
       "    </tr>\n",
       "    <tr>\n",
       "      <th>4</th>\n",
       "      <td>Air Force Academy High School</td>\n",
       "      <td>Average</td>\n",
       "      <td>Strong</td>\n",
       "      <td>Strong</td>\n",
       "      <td>Average</td>\n",
       "      <td>Weak</td>\n",
       "      <td>Average</td>\n",
       "    </tr>\n",
       "    <tr>\n",
       "      <th>...</th>\n",
       "      <td>...</td>\n",
       "      <td>...</td>\n",
       "      <td>...</td>\n",
       "      <td>...</td>\n",
       "      <td>...</td>\n",
       "      <td>...</td>\n",
       "      <td>...</td>\n",
       "    </tr>\n",
       "    <tr>\n",
       "      <th>561</th>\n",
       "      <td>William T Sherman Elementary School</td>\n",
       "      <td>Weak</td>\n",
       "      <td>NDA</td>\n",
       "      <td>Average</td>\n",
       "      <td>Average</td>\n",
       "      <td>Weak</td>\n",
       "      <td>NDA</td>\n",
       "    </tr>\n",
       "    <tr>\n",
       "      <th>562</th>\n",
       "      <td>William W Carter Elementary School</td>\n",
       "      <td>Very Weak</td>\n",
       "      <td>Average</td>\n",
       "      <td>Weak</td>\n",
       "      <td>Weak</td>\n",
       "      <td>Weak</td>\n",
       "      <td>Strong</td>\n",
       "    </tr>\n",
       "    <tr>\n",
       "      <th>563</th>\n",
       "      <td>Wolfgang A Mozart Elementary School</td>\n",
       "      <td>Average</td>\n",
       "      <td>NDA</td>\n",
       "      <td>Average</td>\n",
       "      <td>Weak</td>\n",
       "      <td>Weak</td>\n",
       "      <td>NDA</td>\n",
       "    </tr>\n",
       "    <tr>\n",
       "      <th>564</th>\n",
       "      <td>Woodlawn Community Elementary School</td>\n",
       "      <td>Strong</td>\n",
       "      <td>NDA</td>\n",
       "      <td>Very Strong</td>\n",
       "      <td>Strong</td>\n",
       "      <td>Weak</td>\n",
       "      <td>NDA</td>\n",
       "    </tr>\n",
       "    <tr>\n",
       "      <th>565</th>\n",
       "      <td>World Language Academy High School</td>\n",
       "      <td>Average</td>\n",
       "      <td>Weak</td>\n",
       "      <td>Average</td>\n",
       "      <td>Average</td>\n",
       "      <td>Weak</td>\n",
       "      <td>Average</td>\n",
       "    </tr>\n",
       "  </tbody>\n",
       "</table>\n",
       "<p>566 rows × 7 columns</p>\n",
       "</div>"
      ],
      "text/plain": [
       "                                           School_Name Safety_Rating  \\\n",
       "0                    Abraham Lincoln Elementary School   Very Strong   \n",
       "1    Adam Clayton Powell Paideia Community Academy ...       Average   \n",
       "2                  Adlai E Stevenson Elementary School        Strong   \n",
       "3                      Agustin Lara Elementary Academy       Average   \n",
       "4                        Air Force Academy High School       Average   \n",
       "..                                                 ...           ...   \n",
       "561                William T Sherman Elementary School          Weak   \n",
       "562                 William W Carter Elementary School     Very Weak   \n",
       "563                Wolfgang A Mozart Elementary School       Average   \n",
       "564               Woodlawn Community Elementary School        Strong   \n",
       "565                 World Language Academy High School       Average   \n",
       "\n",
       "    Family_Rating Environment_Rating Instruction_Rating Leaders_Rating  \\\n",
       "0     Very Strong             Strong             Strong        Average   \n",
       "1          Strong             Strong        Very Strong           Weak   \n",
       "2             NDA            Average               Weak           Weak   \n",
       "3         Average            Average               Weak           Weak   \n",
       "4          Strong             Strong            Average           Weak   \n",
       "..            ...                ...                ...            ...   \n",
       "561           NDA            Average            Average           Weak   \n",
       "562       Average               Weak               Weak           Weak   \n",
       "563           NDA            Average               Weak           Weak   \n",
       "564           NDA        Very Strong             Strong           Weak   \n",
       "565          Weak            Average            Average           Weak   \n",
       "\n",
       "    Teachers_Rating  \n",
       "0            Strong  \n",
       "1            Strong  \n",
       "2               NDA  \n",
       "3           Average  \n",
       "4           Average  \n",
       "..              ...  \n",
       "561             NDA  \n",
       "562          Strong  \n",
       "563             NDA  \n",
       "564             NDA  \n",
       "565         Average  \n",
       "\n",
       "[566 rows x 7 columns]"
      ]
     },
     "execution_count": 27,
     "metadata": {},
     "output_type": "execute_result"
    }
   ],
   "source": [
    "%%capture --no-display\n",
    "\n",
    "pd.read_sql(\"\"\"\n",
    "    SELECT * FROM v_public_schools\n",
    "\"\"\", con=conn)"
   ]
  },
  {
   "cell_type": "markdown",
   "id": "9b667b40",
   "metadata": {},
   "source": [
    "### Question 3: Write and execute a SQL statement that returns just the school name and leaders rating from the view."
   ]
  },
  {
   "cell_type": "code",
   "execution_count": 20,
   "id": "64c0fffc",
   "metadata": {},
   "outputs": [
    {
     "data": {
      "text/html": [
       "<div>\n",
       "<style scoped>\n",
       "    .dataframe tbody tr th:only-of-type {\n",
       "        vertical-align: middle;\n",
       "    }\n",
       "\n",
       "    .dataframe tbody tr th {\n",
       "        vertical-align: top;\n",
       "    }\n",
       "\n",
       "    .dataframe thead th {\n",
       "        text-align: right;\n",
       "    }\n",
       "</style>\n",
       "<table border=\"1\" class=\"dataframe\">\n",
       "  <thead>\n",
       "    <tr style=\"text-align: right;\">\n",
       "      <th></th>\n",
       "      <th>School_Name</th>\n",
       "      <th>Leaders_Rating</th>\n",
       "    </tr>\n",
       "  </thead>\n",
       "  <tbody>\n",
       "    <tr>\n",
       "      <th>0</th>\n",
       "      <td>Abraham Lincoln Elementary School</td>\n",
       "      <td>Average</td>\n",
       "    </tr>\n",
       "    <tr>\n",
       "      <th>1</th>\n",
       "      <td>Adam Clayton Powell Paideia Community Academy ...</td>\n",
       "      <td>Weak</td>\n",
       "    </tr>\n",
       "    <tr>\n",
       "      <th>2</th>\n",
       "      <td>Adlai E Stevenson Elementary School</td>\n",
       "      <td>Weak</td>\n",
       "    </tr>\n",
       "    <tr>\n",
       "      <th>3</th>\n",
       "      <td>Agustin Lara Elementary Academy</td>\n",
       "      <td>Weak</td>\n",
       "    </tr>\n",
       "    <tr>\n",
       "      <th>4</th>\n",
       "      <td>Air Force Academy High School</td>\n",
       "      <td>Weak</td>\n",
       "    </tr>\n",
       "    <tr>\n",
       "      <th>...</th>\n",
       "      <td>...</td>\n",
       "      <td>...</td>\n",
       "    </tr>\n",
       "    <tr>\n",
       "      <th>561</th>\n",
       "      <td>William T Sherman Elementary School</td>\n",
       "      <td>Weak</td>\n",
       "    </tr>\n",
       "    <tr>\n",
       "      <th>562</th>\n",
       "      <td>William W Carter Elementary School</td>\n",
       "      <td>Weak</td>\n",
       "    </tr>\n",
       "    <tr>\n",
       "      <th>563</th>\n",
       "      <td>Wolfgang A Mozart Elementary School</td>\n",
       "      <td>Weak</td>\n",
       "    </tr>\n",
       "    <tr>\n",
       "      <th>564</th>\n",
       "      <td>Woodlawn Community Elementary School</td>\n",
       "      <td>Weak</td>\n",
       "    </tr>\n",
       "    <tr>\n",
       "      <th>565</th>\n",
       "      <td>World Language Academy High School</td>\n",
       "      <td>Weak</td>\n",
       "    </tr>\n",
       "  </tbody>\n",
       "</table>\n",
       "<p>566 rows × 2 columns</p>\n",
       "</div>"
      ],
      "text/plain": [
       "                                           School_Name Leaders_Rating\n",
       "0                    Abraham Lincoln Elementary School        Average\n",
       "1    Adam Clayton Powell Paideia Community Academy ...           Weak\n",
       "2                  Adlai E Stevenson Elementary School           Weak\n",
       "3                      Agustin Lara Elementary Academy           Weak\n",
       "4                        Air Force Academy High School           Weak\n",
       "..                                                 ...            ...\n",
       "561                William T Sherman Elementary School           Weak\n",
       "562                 William W Carter Elementary School           Weak\n",
       "563                Wolfgang A Mozart Elementary School           Weak\n",
       "564               Woodlawn Community Elementary School           Weak\n",
       "565                 World Language Academy High School           Weak\n",
       "\n",
       "[566 rows x 2 columns]"
      ]
     },
     "execution_count": 20,
     "metadata": {},
     "output_type": "execute_result"
    }
   ],
   "source": [
    "%%capture --no-display\n",
    "\n",
    "pd.read_sql(\"\"\"\n",
    "    SELECT\n",
    "        School_Name,\n",
    "        Leaders_Rating\n",
    "    FROM v_public_schools;\n",
    "\"\"\", con=conn)"
   ]
  },
  {
   "cell_type": "markdown",
   "id": "402aba99",
   "metadata": {},
   "source": [
    "### Question 1: Write the structure of a query to create or replace a stored procedure called UPDATE_LEADERS_SCORE that takes a in_School_ID parameter as an integer and a in_Leader_Score parameter as an integer. Don’t forget to use the #SET TERMINATOR statement to use the @ for the CREATE statement terminator."
   ]
  },
  {
   "cell_type": "code",
   "execution_count": null,
   "id": "78fb26da",
   "metadata": {},
   "outputs": [],
   "source": [
    "--#SET TERMINATOR @\n",
    "CREATE PROCEDURE UPDATE_LEADERS_SCORE (\n",
    "    IN in_School_ID INTEGER, in_Leader_Score INTEGER) \n",
    "LANGUAGE SQL \n",
    "MODIFIES SQL DATA\n",
    "BEGIN\n",
    "    \n",
    "END \n",
    "  @"
   ]
  },
  {
   "cell_type": "markdown",
   "id": "d8101f71",
   "metadata": {},
   "source": [
    "### Question 2: Inside your stored procedure, write a SQL statement to update the Leaders_Score field in the CHICAGO_PUBLIC_SCHOOLS table for the school identified by in_School_ID to the value in the in_Leader_Score parameter"
   ]
  },
  {
   "cell_type": "code",
   "execution_count": null,
   "id": "5a2f6edb",
   "metadata": {},
   "outputs": [],
   "source": [
    "--#SET TERMINATOR @\n",
    "CREATE PROCEDURE UPDATE_LEADERS_SCORE (\n",
    "    IN p_school_id INTEGER, p_leader_score INTEGER) \n",
    "LANGUAGE SQL \n",
    "MODIFIES SQL DATA\n",
    "BEGIN\n",
    "    UPDATE \"CHICAGO_PUBLIC_SCHOOLS\"\n",
    "    SET \"Leaders_Score\" = p_leader_score\n",
    "    WHERE \"School_ID\" = p_school_id;\n",
    "END \n",
    "@"
   ]
  },
  {
   "cell_type": "markdown",
   "id": "d2b79ec0",
   "metadata": {},
   "source": [
    "### Question 3: Inside your stored procedure, write a SQL IF statement to update the Leaders_Icon field in the CHICAGO_PUBLIC_SCHOOLS table for the school identified by in_School_ID using the following information.\n",
    "\n",
    "| Score lower limit | Score upper limit | Icon |\n",
    "| --- | --- | --- |\n",
    "| 80 | 99 | Very strong |\n",
    "| 60 | 79 | Strong |\n",
    "| 40 | 59 | Average |\n",
    "| 20 | 39 | Weak |\n",
    "| 0\t| 19 | Very weak |"
   ]
  },
  {
   "cell_type": "code",
   "execution_count": null,
   "id": "aee33de2",
   "metadata": {},
   "outputs": [],
   "source": [
    "DELIMITER $$\n",
    "\n",
    "CREATE PROCEDURE `p_update_leaders_score`(IN p_school_id INTEGER, IN p_leader_score INTEGER)\n",
    "BEGIN\n",
    "\tIF p_leader_score >= 80 THEN\n",
    "\t\tUPDATE CHICAGO_PUBLIC_SCHOOLS\n",
    "        SET LEADERS_ICON = 'Very Strong', LEADERS_SCORE = p_leader_score\n",
    "        WHERE SCHOOL_ID = p_school_id;\n",
    "        \n",
    "\tELSEIF p_leader_score >= 60 AND p_leader_score <=79 THEN\n",
    "\t\tUPDATE CHICAGO_PUBLIC_SCHOOLS\n",
    "        SET LEADERS_ICON = 'Strong', LEADERS_SCORE = p_leader_score\n",
    "        WHERE SCHOOL_ID = p_school_id;\n",
    "        \n",
    "\tELSEIF p_leader_score >=40 AND p_leader_score <= 59 THEN\n",
    "\t\tUPDATE CHICAGO_PUBLIC_SCHOOLS\n",
    "        SET LEADERS_ICON = 'Average', LEADERS_SCORE = p_leader_score\n",
    "        WHERE SCHOOL_ID = p_school_id;\n",
    "        \n",
    "\tELSEIF p_leader_score >= 20 AND p_leader_score <= 39 THEN\n",
    "\t\tUPDATE CHICAGO_PUBLIC_SCHOOLS\n",
    "\t\tSET LEADERS_ICON = 'Weak', LEADERS_SCORE = p_leader_score\n",
    "        WHERE SCHOOL_ID = p_school_id;\n",
    "        \n",
    "\tELSE \n",
    "\t\tUPDATE CHICAGO_PUBLIC_SCHOOLS\n",
    "        SET LEADERS_ICON = 'Very Weak', LEADERS_SCORE = p_leader_score\n",
    "        WHERE SCHOOL_ID = p_school_id;\n",
    "\t\t\n",
    "\tEND IF;\n",
    "\n",
    "END$$\n",
    "\n",
    "DELIMITER ;"
   ]
  },
  {
   "cell_type": "markdown",
   "id": "3eb19475",
   "metadata": {},
   "source": [
    "### Question 4: Write a query to call the stored procedure, passing a valid school ID and a leader score of 50, to check that the procedure works as expected."
   ]
  },
  {
   "cell_type": "code",
   "execution_count": null,
   "id": "d237e54b",
   "metadata": {},
   "outputs": [],
   "source": [
    "%%capture --no-display\n",
    "\n",
    "pd.read_sql(\"\"\"\n",
    "    CALL p_update_leaders_score(610038, 50)\n",
    "\"\"\", con=conn);"
   ]
  },
  {
   "cell_type": "markdown",
   "id": "311d1670",
   "metadata": {},
   "source": [
    "## Transactions"
   ]
  },
  {
   "cell_type": "markdown",
   "id": "ef58a95a",
   "metadata": {},
   "source": [
    "### Question 1: Update your stored procedure definition. Add a generic ELSE clause to the IF statement that rolls back the current work if the score did not fit any of the preceding categories."
   ]
  },
  {
   "cell_type": "code",
   "execution_count": null,
   "id": "fb579b45",
   "metadata": {},
   "outputs": [],
   "source": []
  },
  {
   "cell_type": "markdown",
   "id": "1f955e1c",
   "metadata": {},
   "source": [
    "## Close DB Connection"
   ]
  },
  {
   "cell_type": "code",
   "execution_count": 28,
   "id": "71961700",
   "metadata": {},
   "outputs": [
    {
     "name": "stdout",
     "output_type": "stream",
     "text": [
      "Connection Closed!\n"
     ]
    }
   ],
   "source": [
    "conn.close()\n",
    "print('Connection Closed!')"
   ]
  }
 ],
 "metadata": {
  "kernelspec": {
   "display_name": "Python 3 (ipykernel)",
   "language": "python",
   "name": "python3"
  },
  "language_info": {
   "codemirror_mode": {
    "name": "ipython",
    "version": 3
   },
   "file_extension": ".py",
   "mimetype": "text/x-python",
   "name": "python",
   "nbconvert_exporter": "python",
   "pygments_lexer": "ipython3",
   "version": "3.9.13"
  }
 },
 "nbformat": 4,
 "nbformat_minor": 5
}
